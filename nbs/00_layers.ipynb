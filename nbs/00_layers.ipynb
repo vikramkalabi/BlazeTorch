{
 "cells": [
  {
   "cell_type": "code",
   "execution_count": null,
   "metadata": {},
   "outputs": [
    {
     "data": {
      "application/javascript": [
       "\n",
       "            setTimeout(function() {\n",
       "                var nbb_cell_id = 1;\n",
       "                var nbb_unformatted_code = \"# default_exp anchors\\n%load_ext nb_black\";\n",
       "                var nbb_formatted_code = \"# default_exp anchors\\n%load_ext nb_black\";\n",
       "                var nbb_cells = Jupyter.notebook.get_cells();\n",
       "                for (var i = 0; i < nbb_cells.length; ++i) {\n",
       "                    if (nbb_cells[i].input_prompt_number == nbb_cell_id) {\n",
       "                        if (nbb_cells[i].get_text() == nbb_unformatted_code) {\n",
       "                             nbb_cells[i].set_text(nbb_formatted_code);\n",
       "                        }\n",
       "                        break;\n",
       "                    }\n",
       "                }\n",
       "            }, 500);\n",
       "            "
      ],
      "text/plain": [
       "<IPython.core.display.Javascript object>"
      ]
     },
     "metadata": {},
     "output_type": "display_data"
    }
   ],
   "source": [
    "# default_exp layers\n",
    "%load_ext nb_black"
   ]
  },
  {
   "cell_type": "markdown",
   "metadata": {},
   "source": [
    "# `layers`\n",
    "\n",
    "> Blaze CNN Layers"
   ]
  },
  {
   "cell_type": "code",
   "execution_count": null,
   "metadata": {},
   "outputs": [
    {
     "data": {
      "application/javascript": [
       "\n",
       "            setTimeout(function() {\n",
       "                var nbb_cell_id = 27;\n",
       "                var nbb_unformatted_code = \"# export\\n\\nimport torch.nn as nn\\nimport torch.nn.functional as F\\n\\nclass BlazeBlock(nn.Module):\\n    \\\"\\\"\\\"Based on `https://github.com/hollance/BlazeFace-PyTorch/blob/master/blazeface.py`\\\"\\\"\\\"\\n    def __init__(self, in_channels, out_channels, kernel_size=5, stride=1, use_res_conv=False):\\n        super().__init__()\\n        \\n        self.input_pad_units = (1, 2, 1, 2) if kernel_size == 5 else (0, 2, 0, 2)\\n        if stride == 2:\\n            padding = 0\\n        else:\\n            padding = (kernel_size - 1) // 2\\n        self.stride = stride\\n        self.channel_pad =  out_channels - in_channels\\n        \\n        self.conv = nn.Sequential(\\n            nn.Conv2d(\\n                in_channels, \\n                in_channels, \\n                kernel_size=kernel_size, \\n                stride=stride, \\n                padding=padding, \\n                groups=in_channels\\n            ),\\n            nn.Conv2d(in_channels, out_channels, 1)\\n        )\\n        if self.stride == 2:\\n            if not use_res_conv:\\n                self.short =  nn.MaxPool2d(kernel_size=stride, stride=stride)\\n            else:\\n                self.short = nn.Sequential(\\n                    nn.MaxPool2d(kernel_size=stride, stride=stride),\\n                    nn.Conv2d(in_channels, out_channels, 1)\\n                )\\n                self.channel_pad = 0\\n        \\n        self.activation = nn.ReLU(inplace=True)\\n        \\n    def forward(self, x):\\n\\n        if self.stride == 2:\\n            h = F.pad(x, self.input_pad_units, \\\"constant\\\", 0)\\n            x = self.short(x)\\n        else:\\n            h = x\\n\\n        if self.channel_pad > 0:\\n            x = F.pad(x, (0, 0, 0, 0, 0, self.channel_pad), \\\"constant\\\", 0)\\n\\n  \\n        return self.activation(self.conv(h) + x)\";\n",
       "                var nbb_formatted_code = \"# export\\n\\nimport torch.nn as nn\\nimport torch.nn.functional as F\\n\\n\\nclass BlazeBlock(nn.Module):\\n    \\\"\\\"\\\"Based on `https://github.com/hollance/BlazeFace-PyTorch/blob/master/blazeface.py`\\\"\\\"\\\"\\n\\n    def __init__(\\n        self, in_channels, out_channels, kernel_size=5, stride=1, use_res_conv=False\\n    ):\\n        super().__init__()\\n\\n        self.input_pad_units = (1, 2, 1, 2) if kernel_size == 5 else (0, 2, 0, 2)\\n        if stride == 2:\\n            padding = 0\\n        else:\\n            padding = (kernel_size - 1) // 2\\n        self.stride = stride\\n        self.channel_pad = out_channels - in_channels\\n\\n        self.conv = nn.Sequential(\\n            nn.Conv2d(\\n                in_channels,\\n                in_channels,\\n                kernel_size=kernel_size,\\n                stride=stride,\\n                padding=padding,\\n                groups=in_channels,\\n            ),\\n            nn.Conv2d(in_channels, out_channels, 1),\\n        )\\n        if self.stride == 2:\\n            if not use_res_conv:\\n                self.short = nn.MaxPool2d(kernel_size=stride, stride=stride)\\n            else:\\n                self.short = nn.Sequential(\\n                    nn.MaxPool2d(kernel_size=stride, stride=stride),\\n                    nn.Conv2d(in_channels, out_channels, 1),\\n                )\\n                self.channel_pad = 0\\n\\n        self.activation = nn.ReLU(inplace=True)\\n\\n    def forward(self, x):\\n\\n        if self.stride == 2:\\n            h = F.pad(x, self.input_pad_units, \\\"constant\\\", 0)\\n            x = self.short(x)\\n        else:\\n            h = x\\n\\n        if self.channel_pad > 0:\\n            x = F.pad(x, (0, 0, 0, 0, 0, self.channel_pad), \\\"constant\\\", 0)\\n\\n        return self.activation(self.conv(h) + x)\";\n",
       "                var nbb_cells = Jupyter.notebook.get_cells();\n",
       "                for (var i = 0; i < nbb_cells.length; ++i) {\n",
       "                    if (nbb_cells[i].input_prompt_number == nbb_cell_id) {\n",
       "                        if (nbb_cells[i].get_text() == nbb_unformatted_code) {\n",
       "                             nbb_cells[i].set_text(nbb_formatted_code);\n",
       "                        }\n",
       "                        break;\n",
       "                    }\n",
       "                }\n",
       "            }, 500);\n",
       "            "
      ],
      "text/plain": [
       "<IPython.core.display.Javascript object>"
      ]
     },
     "metadata": {},
     "output_type": "display_data"
    }
   ],
   "source": [
    "# export\n",
    "\n",
    "import torch.nn as nn\n",
    "import torch.nn.functional as F\n",
    "\n",
    "class BlazeBlock(nn.Module):\n",
    "    \"\"\"Based on `https://github.com/hollance/BlazeFace-PyTorch/blob/master/blazeface.py`\"\"\"\n",
    "    def __init__(self, in_channels, out_channels, kernel_size=5, stride=1, use_res_conv=False):\n",
    "        super().__init__()\n",
    "        \n",
    "        self.input_pad_units = (1, 2, 1, 2) if kernel_size == 5 else (0, 2, 0, 2)\n",
    "        if stride == 2:\n",
    "            padding = 0\n",
    "        else:\n",
    "            padding = (kernel_size - 1) // 2\n",
    "        self.stride = stride\n",
    "        self.channel_pad =  out_channels - in_channels\n",
    "        \n",
    "        self.conv = nn.Sequential(\n",
    "            nn.Conv2d(\n",
    "                in_channels, \n",
    "                in_channels, \n",
    "                kernel_size=kernel_size, \n",
    "                stride=stride, \n",
    "                padding=padding, \n",
    "                groups=in_channels\n",
    "            ),\n",
    "            nn.Conv2d(in_channels, out_channels, 1)\n",
    "        )\n",
    "        if self.stride == 2:\n",
    "            if not use_res_conv:\n",
    "                self.short =  nn.MaxPool2d(kernel_size=stride, stride=stride)\n",
    "            else:\n",
    "                self.short = nn.Sequential(\n",
    "                    nn.MaxPool2d(kernel_size=stride, stride=stride),\n",
    "                    nn.Conv2d(in_channels, out_channels, 1)\n",
    "                )\n",
    "                self.channel_pad = 0\n",
    "        \n",
    "        self.activation = nn.ReLU(inplace=True)\n",
    "        \n",
    "    def forward(self, x):\n",
    "\n",
    "        if self.stride == 2:\n",
    "            h = F.pad(x, self.input_pad_units, \"constant\", 0)\n",
    "            x = self.short(x)\n",
    "        else:\n",
    "            h = x\n",
    "\n",
    "        if self.channel_pad > 0:\n",
    "            x = F.pad(x, (0, 0, 0, 0, 0, self.channel_pad), \"constant\", 0)\n",
    "\n",
    "  \n",
    "        return self.activation(self.conv(h) + x)\n"
   ]
  },
  {
   "cell_type": "code",
   "execution_count": null,
   "metadata": {},
   "outputs": [
    {
     "data": {
      "text/plain": [
       "torch.Size([1, 16, 5, 5])"
      ]
     },
     "execution_count": null,
     "metadata": {},
     "output_type": "execute_result"
    },
    {
     "data": {
      "application/javascript": [
       "\n",
       "            setTimeout(function() {\n",
       "                var nbb_cell_id = 28;\n",
       "                var nbb_unformatted_code = \"import torch\\n\\nx = torch.randn(1, 8, 10, 10)\\nblock = BlazeBlock(8, 16, kernel_size=5, stride=2)\\nblock(x).shape\";\n",
       "                var nbb_formatted_code = \"import torch\\n\\nx = torch.randn(1, 8, 10, 10)\\nblock = BlazeBlock(8, 16, kernel_size=5, stride=2)\\nblock(x).shape\";\n",
       "                var nbb_cells = Jupyter.notebook.get_cells();\n",
       "                for (var i = 0; i < nbb_cells.length; ++i) {\n",
       "                    if (nbb_cells[i].input_prompt_number == nbb_cell_id) {\n",
       "                        if (nbb_cells[i].get_text() == nbb_unformatted_code) {\n",
       "                             nbb_cells[i].set_text(nbb_formatted_code);\n",
       "                        }\n",
       "                        break;\n",
       "                    }\n",
       "                }\n",
       "            }, 500);\n",
       "            "
      ],
      "text/plain": [
       "<IPython.core.display.Javascript object>"
      ]
     },
     "metadata": {},
     "output_type": "display_data"
    }
   ],
   "source": [
    "import torch\n",
    "\n",
    "x = torch.randn(1, 8, 10, 10)\n",
    "block = BlazeBlock(8, 16, kernel_size=5, stride=2)\n",
    "block(x).shape"
   ]
  },
  {
   "cell_type": "code",
   "execution_count": null,
   "metadata": {},
   "outputs": [
    {
     "data": {
      "application/javascript": [
       "\n",
       "            setTimeout(function() {\n",
       "                var nbb_cell_id = 29;\n",
       "                var nbb_unformatted_code = \"# export\\n\\n\\nclass BlazeFaceBlock(BlazeBlock):\\n    \\\"\\\"\\\"Basic Block for BlazeFace Model\\\"\\\"\\\"\\n\\n    def __init__(self, in_channels, out_channels, kernel_size=3, stride=1):\\n        super().__init__(\\n            in_channels, out_channels, kernel_size, stride, use_res_conv=False\\n        )\";\n",
       "                var nbb_formatted_code = \"# export\\n\\n\\nclass BlazeFaceBlock(BlazeBlock):\\n    \\\"\\\"\\\"Basic Block for BlazeFace Model\\\"\\\"\\\"\\n\\n    def __init__(self, in_channels, out_channels, kernel_size=3, stride=1):\\n        super().__init__(\\n            in_channels, out_channels, kernel_size, stride, use_res_conv=False\\n        )\";\n",
       "                var nbb_cells = Jupyter.notebook.get_cells();\n",
       "                for (var i = 0; i < nbb_cells.length; ++i) {\n",
       "                    if (nbb_cells[i].input_prompt_number == nbb_cell_id) {\n",
       "                        if (nbb_cells[i].get_text() == nbb_unformatted_code) {\n",
       "                             nbb_cells[i].set_text(nbb_formatted_code);\n",
       "                        }\n",
       "                        break;\n",
       "                    }\n",
       "                }\n",
       "            }, 500);\n",
       "            "
      ],
      "text/plain": [
       "<IPython.core.display.Javascript object>"
      ]
     },
     "metadata": {},
     "output_type": "display_data"
    }
   ],
   "source": [
    "# export\n",
    "class BlazeFaceBlock(BlazeBlock):\n",
    "    \"\"\"Basic Block for BlazeFace Model\"\"\"\n",
    "\n",
    "    def __init__(self, in_channels, out_channels, kernel_size=3, stride=1):\n",
    "        super().__init__(\n",
    "            in_channels, out_channels, kernel_size, stride, use_res_conv=False\n",
    "        )"
   ]
  },
  {
   "cell_type": "code",
   "execution_count": null,
   "metadata": {},
   "outputs": [
    {
     "data": {
      "application/javascript": [
       "\n",
       "            setTimeout(function() {\n",
       "                var nbb_cell_id = 30;\n",
       "                var nbb_unformatted_code = \"x = torch.randn(1, 8, 10, 10)\\nblock = BlazeFaceBlock(8, 16, stride=2)\\nassert tuple(block(x).shape) == (1, 16, 5, 5)\";\n",
       "                var nbb_formatted_code = \"x = torch.randn(1, 8, 10, 10)\\nblock = BlazeFaceBlock(8, 16, stride=2)\\nassert tuple(block(x).shape) == (1, 16, 5, 5)\";\n",
       "                var nbb_cells = Jupyter.notebook.get_cells();\n",
       "                for (var i = 0; i < nbb_cells.length; ++i) {\n",
       "                    if (nbb_cells[i].input_prompt_number == nbb_cell_id) {\n",
       "                        if (nbb_cells[i].get_text() == nbb_unformatted_code) {\n",
       "                             nbb_cells[i].set_text(nbb_formatted_code);\n",
       "                        }\n",
       "                        break;\n",
       "                    }\n",
       "                }\n",
       "            }, 500);\n",
       "            "
      ],
      "text/plain": [
       "<IPython.core.display.Javascript object>"
      ]
     },
     "metadata": {},
     "output_type": "display_data"
    }
   ],
   "source": [
    "x = torch.randn(1, 8, 10, 10)\n",
    "block = BlazeFaceBlock(8, 16, stride=2)\n",
    "assert tuple(block(x).shape) == (1, 16, 5, 5)"
   ]
  },
  {
   "cell_type": "code",
   "execution_count": null,
   "metadata": {},
   "outputs": [
    {
     "data": {
      "application/javascript": [
       "\n",
       "            setTimeout(function() {\n",
       "                var nbb_cell_id = 31;\n",
       "                var nbb_unformatted_code = \"x = torch.randn(1, 8, 10, 10)\\nblock = BlazeFaceBlock(8, 16, stride=1)\\nassert tuple(block(x).shape) == (1, 16, 10, 10)\";\n",
       "                var nbb_formatted_code = \"x = torch.randn(1, 8, 10, 10)\\nblock = BlazeFaceBlock(8, 16, stride=1)\\nassert tuple(block(x).shape) == (1, 16, 10, 10)\";\n",
       "                var nbb_cells = Jupyter.notebook.get_cells();\n",
       "                for (var i = 0; i < nbb_cells.length; ++i) {\n",
       "                    if (nbb_cells[i].input_prompt_number == nbb_cell_id) {\n",
       "                        if (nbb_cells[i].get_text() == nbb_unformatted_code) {\n",
       "                             nbb_cells[i].set_text(nbb_formatted_code);\n",
       "                        }\n",
       "                        break;\n",
       "                    }\n",
       "                }\n",
       "            }, 500);\n",
       "            "
      ],
      "text/plain": [
       "<IPython.core.display.Javascript object>"
      ]
     },
     "metadata": {},
     "output_type": "display_data"
    }
   ],
   "source": [
    "x = torch.randn(1, 8, 10, 10)\n",
    "block = BlazeFaceBlock(8, 16, stride=1)\n",
    "assert tuple(block(x).shape) == (1, 16, 10, 10)"
   ]
  },
  {
   "cell_type": "code",
   "execution_count": null,
   "metadata": {},
   "outputs": [
    {
     "data": {
      "application/javascript": [
       "\n",
       "            setTimeout(function() {\n",
       "                var nbb_cell_id = 32;\n",
       "                var nbb_unformatted_code = \"# export\\n\\nclass BlazePoseBlock(BlazeBlock):\\n    \\\"\\\"\\\"Basic Block for BlazePose Model\\\"\\\"\\\"\\n\\n    def __init__(self, in_channels, out_channels, kernel_size=5, stride=1):\\n        super().__init__(\\n            in_channels, out_channels, kernel_size, stride, use_res_conv=True\\n        )\";\n",
       "                var nbb_formatted_code = \"# export\\n\\n\\nclass BlazePoseBlock(BlazeBlock):\\n    \\\"\\\"\\\"Basic Block for BlazePose Model\\\"\\\"\\\"\\n\\n    def __init__(self, in_channels, out_channels, kernel_size=5, stride=1):\\n        super().__init__(\\n            in_channels, out_channels, kernel_size, stride, use_res_conv=True\\n        )\";\n",
       "                var nbb_cells = Jupyter.notebook.get_cells();\n",
       "                for (var i = 0; i < nbb_cells.length; ++i) {\n",
       "                    if (nbb_cells[i].input_prompt_number == nbb_cell_id) {\n",
       "                        if (nbb_cells[i].get_text() == nbb_unformatted_code) {\n",
       "                             nbb_cells[i].set_text(nbb_formatted_code);\n",
       "                        }\n",
       "                        break;\n",
       "                    }\n",
       "                }\n",
       "            }, 500);\n",
       "            "
      ],
      "text/plain": [
       "<IPython.core.display.Javascript object>"
      ]
     },
     "metadata": {},
     "output_type": "display_data"
    }
   ],
   "source": [
    "# export\n",
    "class BlazePoseBlock(BlazeBlock):\n",
    "    \"\"\"Basic Block for BlazePose Model\"\"\"\n",
    "\n",
    "    def __init__(self, in_channels, out_channels, kernel_size=5, stride=1):\n",
    "        super().__init__(\n",
    "            in_channels, out_channels, kernel_size, stride, use_res_conv=True\n",
    "        )"
   ]
  },
  {
   "cell_type": "code",
   "execution_count": null,
   "metadata": {},
   "outputs": [
    {
     "data": {
      "application/javascript": [
       "\n",
       "            setTimeout(function() {\n",
       "                var nbb_cell_id = 33;\n",
       "                var nbb_unformatted_code = \"x = torch.randn(1, 8, 10, 10)\\nblock = BlazePoseBlock(8, 16, stride=1)\\nassert tuple(block(x).shape) == (1, 16, 10, 10)\";\n",
       "                var nbb_formatted_code = \"x = torch.randn(1, 8, 10, 10)\\nblock = BlazePoseBlock(8, 16, stride=1)\\nassert tuple(block(x).shape) == (1, 16, 10, 10)\";\n",
       "                var nbb_cells = Jupyter.notebook.get_cells();\n",
       "                for (var i = 0; i < nbb_cells.length; ++i) {\n",
       "                    if (nbb_cells[i].input_prompt_number == nbb_cell_id) {\n",
       "                        if (nbb_cells[i].get_text() == nbb_unformatted_code) {\n",
       "                             nbb_cells[i].set_text(nbb_formatted_code);\n",
       "                        }\n",
       "                        break;\n",
       "                    }\n",
       "                }\n",
       "            }, 500);\n",
       "            "
      ],
      "text/plain": [
       "<IPython.core.display.Javascript object>"
      ]
     },
     "metadata": {},
     "output_type": "display_data"
    }
   ],
   "source": [
    "x = torch.randn(1, 8, 10, 10)\n",
    "block = BlazePoseBlock(8, 16, stride=1)\n",
    "assert tuple(block(x).shape) == (1, 16, 10, 10)"
   ]
  },
  {
   "cell_type": "code",
   "execution_count": null,
   "metadata": {},
   "outputs": [
    {
     "data": {
      "application/javascript": [
       "\n",
       "            setTimeout(function() {\n",
       "                var nbb_cell_id = 35;\n",
       "                var nbb_unformatted_code = \"x = torch.randn(1, 8, 10, 10)\\nblock = BlazePoseBlock(8, 16, stride=2)\\nassert tuple(block(x).shape) == (1, 16, 5, 5)\";\n",
       "                var nbb_formatted_code = \"x = torch.randn(1, 8, 10, 10)\\nblock = BlazePoseBlock(8, 16, stride=2)\\nassert tuple(block(x).shape) == (1, 16, 5, 5)\";\n",
       "                var nbb_cells = Jupyter.notebook.get_cells();\n",
       "                for (var i = 0; i < nbb_cells.length; ++i) {\n",
       "                    if (nbb_cells[i].input_prompt_number == nbb_cell_id) {\n",
       "                        if (nbb_cells[i].get_text() == nbb_unformatted_code) {\n",
       "                             nbb_cells[i].set_text(nbb_formatted_code);\n",
       "                        }\n",
       "                        break;\n",
       "                    }\n",
       "                }\n",
       "            }, 500);\n",
       "            "
      ],
      "text/plain": [
       "<IPython.core.display.Javascript object>"
      ]
     },
     "metadata": {},
     "output_type": "display_data"
    }
   ],
   "source": [
    "x = torch.randn(1, 8, 10, 10)\n",
    "block = BlazePoseBlock(8, 16, stride=2)\n",
    "assert tuple(block(x).shape) == (1, 16, 5, 5)"
   ]
  },
  {
   "cell_type": "code",
   "execution_count": null,
   "metadata": {},
   "outputs": [],
   "source": []
  }
 ],
 "metadata": {
  "kernelspec": {
   "display_name": "Python 3",
   "language": "python",
   "name": "python3"
  }
 },
 "nbformat": 4,
 "nbformat_minor": 4
}
